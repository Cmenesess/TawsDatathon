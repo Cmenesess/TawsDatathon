{
 "cells": [
  {
   "cell_type": "code",
   "execution_count": 87,
   "metadata": {},
   "outputs": [],
   "source": [
    "import pandas as pd\n",
    "\n",
    "df = pd.read_csv('mdt_teletrabajo_2022septiembre.csv', sep=';', dtype={'RUC': str})"
   ]
  },
  {
   "cell_type": "code",
   "execution_count": 13,
   "metadata": {},
   "outputs": [
    {
     "data": {
      "text/plain": [
       "Index(['motivo_teletrabajo', 'genero', 'provincia_contrato',\n",
       "       'provincia_contrato (grupo)', 'finalizado', 'contratos',\n",
       "       'anio_fecha_inicio_teletrabajo',\n",
       "       'anio_fecha_inicio_teletrabajo (grupo)', 'canton_contrato',\n",
       "       'estado_teletrabajo', 'fecha_consulta', 'mes_fecha_inicio_teletrabajo',\n",
       "       'modo_ejecucion', 'Número de registros', 'ruc_empresa'],\n",
       "      dtype='object')"
      ]
     },
     "execution_count": 13,
     "metadata": {},
     "output_type": "execute_result"
    }
   ],
   "source": [
    "df.columns"
   ]
  },
  {
   "cell_type": "code",
   "execution_count": 31,
   "metadata": {},
   "outputs": [
    {
     "data": {
      "text/plain": [
       "Emergente    33604\n",
       "Habitual     13874\n",
       "Name: motivo_teletrabajo, dtype: int64"
      ]
     },
     "execution_count": 31,
     "metadata": {},
     "output_type": "execute_result"
    }
   ],
   "source": [
    "df.motivo_teletrabajo.value_counts()"
   ]
  },
  {
   "cell_type": "code",
   "execution_count": 11,
   "metadata": {},
   "outputs": [
    {
     "data": {
      "text/plain": [
       "6812"
      ]
     },
     "execution_count": 11,
     "metadata": {},
     "output_type": "execute_result"
    }
   ],
   "source": [
    "df.mes_fecha_inicio_teletrabajo.isna().sum(axis=0)"
   ]
  },
  {
   "cell_type": "code",
   "execution_count": 29,
   "metadata": {},
   "outputs": [
    {
     "data": {
      "text/plain": [
       "2020         28166\n",
       "2021          8150\n",
       "Sin fecha     6812\n",
       "2022          3064\n",
       "2019          1021\n",
       "2018           170\n",
       "2017            69\n",
       "2016            26\n",
       "Name: anio_fecha_inicio_teletrabajo, dtype: int64"
      ]
     },
     "execution_count": 29,
     "metadata": {},
     "output_type": "execute_result"
    }
   ],
   "source": [
    "df.anio_fecha_inicio_teletrabajo.value_counts()"
   ]
  },
  {
   "cell_type": "code",
   "execution_count": 32,
   "metadata": {},
   "outputs": [
    {
     "data": {
      "text/plain": [
       "Index(['motivo_teletrabajo', 'genero', 'provincia_contrato',\n",
       "       'provincia_contrato (grupo)', 'finalizado', 'contratos',\n",
       "       'anio_fecha_inicio_teletrabajo',\n",
       "       'anio_fecha_inicio_teletrabajo (grupo)', 'canton_contrato',\n",
       "       'estado_teletrabajo', 'fecha_consulta', 'mes_fecha_inicio_teletrabajo',\n",
       "       'modo_ejecucion', 'Número de registros', 'ruc_empresa'],\n",
       "      dtype='object')"
      ]
     },
     "execution_count": 32,
     "metadata": {},
     "output_type": "execute_result"
    }
   ],
   "source": [
    "df.columns"
   ]
  },
  {
   "cell_type": "code",
   "execution_count": 47,
   "metadata": {},
   "outputs": [
    {
     "data": {
      "text/plain": [
       "Emergente    61\n",
       "Habitual     13\n",
       "Name: motivo_teletrabajo, dtype: int64"
      ]
     },
     "execution_count": 47,
     "metadata": {},
     "output_type": "execute_result"
    }
   ],
   "source": [
    "mayor_a_cien = df[df[\"contratos\"] > 100]\n",
    "\n",
    "mayor_a_cien.motivo_teletrabajo.value_counts()"
   ]
  },
  {
   "cell_type": "code",
   "execution_count": 49,
   "metadata": {},
   "outputs": [
    {
     "data": {
      "text/plain": [
       "PICHINCHA    40\n",
       "GUAYAS       28\n",
       "IMBABURA      2\n",
       "LOJA          2\n",
       "AZUAY         2\n",
       "Name: provincia_contrato, dtype: int64"
      ]
     },
     "execution_count": 49,
     "metadata": {},
     "output_type": "execute_result"
    }
   ],
   "source": [
    "mayor_a_cien.provincia_contrato.value_counts()"
   ]
  },
  {
   "cell_type": "code",
   "execution_count": 53,
   "metadata": {},
   "outputs": [
    {
     "data": {
      "text/plain": [
       "2020    55\n",
       "2021    15\n",
       "2022     4\n",
       "Name: anio_fecha_inicio_teletrabajo, dtype: int64"
      ]
     },
     "execution_count": 53,
     "metadata": {},
     "output_type": "execute_result"
    }
   ],
   "source": [
    "mayor_a_cien.anio_fecha_inicio_teletrabajo.value_counts()"
   ]
  },
  {
   "cell_type": "code",
   "execution_count": 58,
   "metadata": {},
   "outputs": [],
   "source": [
    "rucs = df.ruc_empresa.unique()"
   ]
  },
  {
   "cell_type": "code",
   "execution_count": 88,
   "metadata": {},
   "outputs": [],
   "source": [
    "super_cias = pd.read_excel('directorio_companias.xlsx', dtype={'RUC': str})\n"
   ]
  },
  {
   "cell_type": "code",
   "execution_count": 89,
   "metadata": {},
   "outputs": [
    {
     "data": {
      "text/html": [
       "<div>\n",
       "<style scoped>\n",
       "    .dataframe tbody tr th:only-of-type {\n",
       "        vertical-align: middle;\n",
       "    }\n",
       "\n",
       "    .dataframe tbody tr th {\n",
       "        vertical-align: top;\n",
       "    }\n",
       "\n",
       "    .dataframe thead th {\n",
       "        text-align: right;\n",
       "    }\n",
       "</style>\n",
       "<table border=\"1\" class=\"dataframe\">\n",
       "  <thead>\n",
       "    <tr style=\"text-align: right;\">\n",
       "      <th></th>\n",
       "      <th>No. FILA</th>\n",
       "      <th>EXPEDIENTE</th>\n",
       "      <th>RUC</th>\n",
       "      <th>NOMBRE</th>\n",
       "      <th>SITUACIÓN LEGAL</th>\n",
       "      <th>FECHA_CONSTITUCION</th>\n",
       "      <th>TIPO</th>\n",
       "      <th>PAÍS</th>\n",
       "      <th>REGIÓN</th>\n",
       "      <th>PROVINCIA</th>\n",
       "      <th>...</th>\n",
       "      <th>NÚMERO</th>\n",
       "      <th>INTERSECCIÓN</th>\n",
       "      <th>BARRIO</th>\n",
       "      <th>TELÉFONO</th>\n",
       "      <th>REPRESENTANTE</th>\n",
       "      <th>CARGO</th>\n",
       "      <th>CAPITAL SUSCRITO</th>\n",
       "      <th>CIIU NIVEL 1</th>\n",
       "      <th>CIIU NIVEL 6</th>\n",
       "      <th>ÚLTIMO BALANCE</th>\n",
       "    </tr>\n",
       "  </thead>\n",
       "  <tbody>\n",
       "    <tr>\n",
       "      <th>0</th>\n",
       "      <td>1</td>\n",
       "      <td>1</td>\n",
       "      <td>1790013731001</td>\n",
       "      <td>ACEITES TROPICALES SOCIEDAD ANONIMA ATSA</td>\n",
       "      <td>ACTIVA</td>\n",
       "      <td>20/07/1951</td>\n",
       "      <td>ANÓNIMA</td>\n",
       "      <td>ECUADOR</td>\n",
       "      <td>SIERRA</td>\n",
       "      <td>SANTO DOMINGO DE LOS TSACHILAS</td>\n",
       "      <td>...</td>\n",
       "      <td>SN</td>\n",
       "      <td>SN</td>\n",
       "      <td>NaN</td>\n",
       "      <td>022762426</td>\n",
       "      <td>ACOSTA LLERENA JUAN CARLOS</td>\n",
       "      <td>GERENTE GENERAL</td>\n",
       "      <td>48.200,00</td>\n",
       "      <td>A</td>\n",
       "      <td>A0126.01</td>\n",
       "      <td>2021.0</td>\n",
       "    </tr>\n",
       "    <tr>\n",
       "      <th>1</th>\n",
       "      <td>2</td>\n",
       "      <td>2</td>\n",
       "      <td>1790004724001</td>\n",
       "      <td>ACERIA DEL ECUADOR CA ADELCA.</td>\n",
       "      <td>ACTIVA</td>\n",
       "      <td>17/12/1963</td>\n",
       "      <td>ANÓNIMA</td>\n",
       "      <td>ECUADOR</td>\n",
       "      <td>SIERRA</td>\n",
       "      <td>PICHINCHA</td>\n",
       "      <td>...</td>\n",
       "      <td>S/N</td>\n",
       "      <td>CHARRO</td>\n",
       "      <td>SANTA LUCIA</td>\n",
       "      <td>023968100</td>\n",
       "      <td>JXFA E.U.R.L.</td>\n",
       "      <td>VICEPRESIDENTE EJECUTIVO</td>\n",
       "      <td>72.500.000,00</td>\n",
       "      <td>C</td>\n",
       "      <td>C2410.25</td>\n",
       "      <td>2021.0</td>\n",
       "    </tr>\n",
       "    <tr>\n",
       "      <th>2</th>\n",
       "      <td>3</td>\n",
       "      <td>3</td>\n",
       "      <td>1790008959001</td>\n",
       "      <td>ACERO COMERCIAL ECUATORIANO S.A.</td>\n",
       "      <td>ACTIVA</td>\n",
       "      <td>27/06/1957</td>\n",
       "      <td>ANÓNIMA</td>\n",
       "      <td>ECUADOR</td>\n",
       "      <td>SIERRA</td>\n",
       "      <td>PICHINCHA</td>\n",
       "      <td>...</td>\n",
       "      <td>N45-14</td>\n",
       "      <td>EL TELEGRAFO 1</td>\n",
       "      <td>LA CONCEPCION</td>\n",
       "      <td>022454333</td>\n",
       "      <td>HEREDIA XAVIER</td>\n",
       "      <td>GERENTE DE SUCURSAL</td>\n",
       "      <td>3.886.417,00</td>\n",
       "      <td>G</td>\n",
       "      <td>G4610.03</td>\n",
       "      <td>2021.0</td>\n",
       "    </tr>\n",
       "    <tr>\n",
       "      <th>3</th>\n",
       "      <td>4</td>\n",
       "      <td>6</td>\n",
       "      <td>1790006476001</td>\n",
       "      <td>AERO TAXIS ECUATORIANOS SA ATESA</td>\n",
       "      <td>DISOLUC. Y LIQUIDAC. OFICIO INSC. EN RM</td>\n",
       "      <td>19/05/1960</td>\n",
       "      <td>ANÓNIMA</td>\n",
       "      <td>ECUADOR</td>\n",
       "      <td>SIERRA</td>\n",
       "      <td>PICHINCHA</td>\n",
       "      <td>...</td>\n",
       "      <td>122</td>\n",
       "      <td>GERONA</td>\n",
       "      <td>LA FLORESTA</td>\n",
       "      <td>2503242</td>\n",
       "      <td>ABBADY JOSEF ARIEL ABRAHAM</td>\n",
       "      <td>PRESIDENTE EJECUTIVO</td>\n",
       "      <td>70.000,00</td>\n",
       "      <td>H</td>\n",
       "      <td>H5110.01</td>\n",
       "      <td>2008.0</td>\n",
       "    </tr>\n",
       "    <tr>\n",
       "      <th>4</th>\n",
       "      <td>5</td>\n",
       "      <td>11</td>\n",
       "      <td>1790044149001</td>\n",
       "      <td>AEROVIAS DEL CONTINENTE AMERICANO S.A. AVIANCA</td>\n",
       "      <td>ACTIVA</td>\n",
       "      <td>27/09/1965</td>\n",
       "      <td>SUCURSAL  EXTRANJERA</td>\n",
       "      <td>COLOMBIA</td>\n",
       "      <td>SIERRA</td>\n",
       "      <td>PICHINCHA</td>\n",
       "      <td>...</td>\n",
       "      <td>N34-107</td>\n",
       "      <td>SUIZA</td>\n",
       "      <td>NaN</td>\n",
       "      <td>022943100</td>\n",
       "      <td>CHIRIBOGA SANCHEZ PATRICIA ALEXANDRA</td>\n",
       "      <td>APODERADO</td>\n",
       "      <td>16.000,00</td>\n",
       "      <td>H</td>\n",
       "      <td>H5110.01</td>\n",
       "      <td>2021.0</td>\n",
       "    </tr>\n",
       "    <tr>\n",
       "      <th>...</th>\n",
       "      <td>...</td>\n",
       "      <td>...</td>\n",
       "      <td>...</td>\n",
       "      <td>...</td>\n",
       "      <td>...</td>\n",
       "      <td>...</td>\n",
       "      <td>...</td>\n",
       "      <td>...</td>\n",
       "      <td>...</td>\n",
       "      <td>...</td>\n",
       "      <td>...</td>\n",
       "      <td>...</td>\n",
       "      <td>...</td>\n",
       "      <td>...</td>\n",
       "      <td>...</td>\n",
       "      <td>...</td>\n",
       "      <td>...</td>\n",
       "      <td>...</td>\n",
       "      <td>...</td>\n",
       "      <td>...</td>\n",
       "      <td>...</td>\n",
       "    </tr>\n",
       "    <tr>\n",
       "      <th>178125</th>\n",
       "      <td>178126</td>\n",
       "      <td>747557</td>\n",
       "      <td>NaN</td>\n",
       "      <td>NOBOA ESTRADA WAREHOUSING CIA.LTDA.</td>\n",
       "      <td>ACTIVA</td>\n",
       "      <td>19/10/2022</td>\n",
       "      <td>RESPONSABILIDAD LIMITADA</td>\n",
       "      <td>ECUADOR</td>\n",
       "      <td>COSTA</td>\n",
       "      <td>GUAYAS</td>\n",
       "      <td>...</td>\n",
       "      <td>NaN</td>\n",
       "      <td>km 20</td>\n",
       "      <td>NaN</td>\n",
       "      <td>042097929</td>\n",
       "      <td>MORLA BEJAR ALFREDO JOSE</td>\n",
       "      <td>PRESIDENTE</td>\n",
       "      <td>800,00</td>\n",
       "      <td>G</td>\n",
       "      <td>G4659.93</td>\n",
       "      <td>NaN</td>\n",
       "    </tr>\n",
       "    <tr>\n",
       "      <th>178126</th>\n",
       "      <td>178127</td>\n",
       "      <td>747558</td>\n",
       "      <td>NaN</td>\n",
       "      <td>TOTALDERMA S.A.S.</td>\n",
       "      <td>ACTIVA</td>\n",
       "      <td>10/11/2022</td>\n",
       "      <td>SOCIEDAD POR ACCIONES SIMPLIFICADA</td>\n",
       "      <td>ECUADOR</td>\n",
       "      <td>SIERRA</td>\n",
       "      <td>PICHINCHA</td>\n",
       "      <td>...</td>\n",
       "      <td>OE4-30</td>\n",
       "      <td>Venezuela</td>\n",
       "      <td>Barrio America</td>\n",
       "      <td>0962226900</td>\n",
       "      <td>CABRERA LOPEZ FRANKLIN OMAR</td>\n",
       "      <td>GERENTE GENERAL</td>\n",
       "      <td>1.000,00</td>\n",
       "      <td>Q</td>\n",
       "      <td>Q8620.01</td>\n",
       "      <td>NaN</td>\n",
       "    </tr>\n",
       "    <tr>\n",
       "      <th>178127</th>\n",
       "      <td>178128</td>\n",
       "      <td>747559</td>\n",
       "      <td>NaN</td>\n",
       "      <td>MUYUCOMPOST S.A.S.</td>\n",
       "      <td>ACTIVA</td>\n",
       "      <td>10/11/2022</td>\n",
       "      <td>SOCIEDAD POR ACCIONES SIMPLIFICADA</td>\n",
       "      <td>ECUADOR</td>\n",
       "      <td>SIERRA</td>\n",
       "      <td>PICHINCHA</td>\n",
       "      <td>...</td>\n",
       "      <td>S61-129</td>\n",
       "      <td>Calle L</td>\n",
       "      <td>La victoria alta</td>\n",
       "      <td>0995749577</td>\n",
       "      <td>SANGOQUIZA GUARANDA GALO HERNAN</td>\n",
       "      <td>GERENTE GENERAL</td>\n",
       "      <td>100,00</td>\n",
       "      <td>E</td>\n",
       "      <td>E3821.02</td>\n",
       "      <td>NaN</td>\n",
       "    </tr>\n",
       "    <tr>\n",
       "      <th>178128</th>\n",
       "      <td>178129</td>\n",
       "      <td>747561</td>\n",
       "      <td>NaN</td>\n",
       "      <td>TERRAGOLD S.A.</td>\n",
       "      <td>ACTIVA</td>\n",
       "      <td>08/11/2022</td>\n",
       "      <td>ANÓNIMA</td>\n",
       "      <td>ECUADOR</td>\n",
       "      <td>COSTA</td>\n",
       "      <td>EL ORO</td>\n",
       "      <td>...</td>\n",
       "      <td>S/N</td>\n",
       "      <td>S/INTER</td>\n",
       "      <td>SAN ESTUARDO</td>\n",
       "      <td>072930377</td>\n",
       "      <td>WANG LIU ZHIPING</td>\n",
       "      <td>GERENTE GENERAL</td>\n",
       "      <td>5.000,00</td>\n",
       "      <td>G</td>\n",
       "      <td>G4662.03</td>\n",
       "      <td>NaN</td>\n",
       "    </tr>\n",
       "    <tr>\n",
       "      <th>178129</th>\n",
       "      <td>178130</td>\n",
       "      <td>747562</td>\n",
       "      <td>NaN</td>\n",
       "      <td>MININGSUR S.A.</td>\n",
       "      <td>ACTIVA</td>\n",
       "      <td>08/11/2022</td>\n",
       "      <td>ANÓNIMA</td>\n",
       "      <td>ECUADOR</td>\n",
       "      <td>COSTA</td>\n",
       "      <td>EL ORO</td>\n",
       "      <td>...</td>\n",
       "      <td>S/N</td>\n",
       "      <td>S/INT</td>\n",
       "      <td>SAN ESTUARDO</td>\n",
       "      <td>072930377</td>\n",
       "      <td>WANG  YANZHEN</td>\n",
       "      <td>GERENTE GENERAL</td>\n",
       "      <td>5.000,00</td>\n",
       "      <td>G</td>\n",
       "      <td>G4662.03</td>\n",
       "      <td>NaN</td>\n",
       "    </tr>\n",
       "  </tbody>\n",
       "</table>\n",
       "<p>178130 rows × 23 columns</p>\n",
       "</div>"
      ],
      "text/plain": [
       "        No. FILA  EXPEDIENTE            RUC  \\\n",
       "0              1           1  1790013731001   \n",
       "1              2           2  1790004724001   \n",
       "2              3           3  1790008959001   \n",
       "3              4           6  1790006476001   \n",
       "4              5          11  1790044149001   \n",
       "...          ...         ...            ...   \n",
       "178125    178126      747557            NaN   \n",
       "178126    178127      747558            NaN   \n",
       "178127    178128      747559            NaN   \n",
       "178128    178129      747561            NaN   \n",
       "178129    178130      747562            NaN   \n",
       "\n",
       "                                                NOMBRE  \\\n",
       "0             ACEITES TROPICALES SOCIEDAD ANONIMA ATSA   \n",
       "1                        ACERIA DEL ECUADOR CA ADELCA.   \n",
       "2                     ACERO COMERCIAL ECUATORIANO S.A.   \n",
       "3                     AERO TAXIS ECUATORIANOS SA ATESA   \n",
       "4       AEROVIAS DEL CONTINENTE AMERICANO S.A. AVIANCA   \n",
       "...                                                ...   \n",
       "178125             NOBOA ESTRADA WAREHOUSING CIA.LTDA.   \n",
       "178126                               TOTALDERMA S.A.S.   \n",
       "178127                              MUYUCOMPOST S.A.S.   \n",
       "178128                                  TERRAGOLD S.A.   \n",
       "178129                                  MININGSUR S.A.   \n",
       "\n",
       "                                SITUACIÓN LEGAL FECHA_CONSTITUCION  \\\n",
       "0                                        ACTIVA         20/07/1951   \n",
       "1                                        ACTIVA         17/12/1963   \n",
       "2                                        ACTIVA         27/06/1957   \n",
       "3       DISOLUC. Y LIQUIDAC. OFICIO INSC. EN RM         19/05/1960   \n",
       "4                                        ACTIVA         27/09/1965   \n",
       "...                                         ...                ...   \n",
       "178125                                   ACTIVA         19/10/2022   \n",
       "178126                                   ACTIVA         10/11/2022   \n",
       "178127                                   ACTIVA         10/11/2022   \n",
       "178128                                   ACTIVA         08/11/2022   \n",
       "178129                                   ACTIVA         08/11/2022   \n",
       "\n",
       "                                      TIPO      PAÍS  REGIÓN  \\\n",
       "0                                  ANÓNIMA   ECUADOR  SIERRA   \n",
       "1                                  ANÓNIMA   ECUADOR  SIERRA   \n",
       "2                                  ANÓNIMA   ECUADOR  SIERRA   \n",
       "3                                  ANÓNIMA   ECUADOR  SIERRA   \n",
       "4                     SUCURSAL  EXTRANJERA  COLOMBIA  SIERRA   \n",
       "...                                    ...       ...     ...   \n",
       "178125            RESPONSABILIDAD LIMITADA   ECUADOR   COSTA   \n",
       "178126  SOCIEDAD POR ACCIONES SIMPLIFICADA   ECUADOR  SIERRA   \n",
       "178127  SOCIEDAD POR ACCIONES SIMPLIFICADA   ECUADOR  SIERRA   \n",
       "178128                             ANÓNIMA   ECUADOR   COSTA   \n",
       "178129                             ANÓNIMA   ECUADOR   COSTA   \n",
       "\n",
       "                             PROVINCIA  ...   NÚMERO    INTERSECCIÓN  \\\n",
       "0       SANTO DOMINGO DE LOS TSACHILAS  ...       SN              SN   \n",
       "1                            PICHINCHA  ...      S/N          CHARRO   \n",
       "2                            PICHINCHA  ...   N45-14  EL TELEGRAFO 1   \n",
       "3                            PICHINCHA  ...      122          GERONA   \n",
       "4                            PICHINCHA  ...  N34-107           SUIZA   \n",
       "...                                ...  ...      ...             ...   \n",
       "178125                          GUAYAS  ...      NaN           km 20   \n",
       "178126                       PICHINCHA  ...   OE4-30       Venezuela   \n",
       "178127                       PICHINCHA  ...  S61-129         Calle L   \n",
       "178128                          EL ORO  ...      S/N         S/INTER   \n",
       "178129                          EL ORO  ...      S/N           S/INT   \n",
       "\n",
       "                  BARRIO    TELÉFONO                         REPRESENTANTE  \\\n",
       "0                    NaN   022762426            ACOSTA LLERENA JUAN CARLOS   \n",
       "1            SANTA LUCIA   023968100                         JXFA E.U.R.L.   \n",
       "2          LA CONCEPCION   022454333                        HEREDIA XAVIER   \n",
       "3            LA FLORESTA     2503242            ABBADY JOSEF ARIEL ABRAHAM   \n",
       "4                    NaN   022943100  CHIRIBOGA SANCHEZ PATRICIA ALEXANDRA   \n",
       "...                  ...         ...                                   ...   \n",
       "178125               NaN   042097929              MORLA BEJAR ALFREDO JOSE   \n",
       "178126    Barrio America  0962226900           CABRERA LOPEZ FRANKLIN OMAR   \n",
       "178127  La victoria alta  0995749577       SANGOQUIZA GUARANDA GALO HERNAN   \n",
       "178128      SAN ESTUARDO   072930377                      WANG LIU ZHIPING   \n",
       "178129      SAN ESTUARDO   072930377                         WANG  YANZHEN   \n",
       "\n",
       "                           CARGO CAPITAL SUSCRITO CIIU NIVEL 1 CIIU NIVEL 6  \\\n",
       "0                GERENTE GENERAL        48.200,00            A     A0126.01   \n",
       "1       VICEPRESIDENTE EJECUTIVO    72.500.000,00            C     C2410.25   \n",
       "2            GERENTE DE SUCURSAL     3.886.417,00            G     G4610.03   \n",
       "3           PRESIDENTE EJECUTIVO        70.000,00            H     H5110.01   \n",
       "4                      APODERADO        16.000,00            H     H5110.01   \n",
       "...                          ...              ...          ...          ...   \n",
       "178125                PRESIDENTE           800,00            G     G4659.93   \n",
       "178126           GERENTE GENERAL         1.000,00            Q     Q8620.01   \n",
       "178127           GERENTE GENERAL           100,00            E     E3821.02   \n",
       "178128           GERENTE GENERAL         5.000,00            G     G4662.03   \n",
       "178129           GERENTE GENERAL         5.000,00            G     G4662.03   \n",
       "\n",
       "       ÚLTIMO BALANCE  \n",
       "0              2021.0  \n",
       "1              2021.0  \n",
       "2              2021.0  \n",
       "3              2008.0  \n",
       "4              2021.0  \n",
       "...               ...  \n",
       "178125            NaN  \n",
       "178126            NaN  \n",
       "178127            NaN  \n",
       "178128            NaN  \n",
       "178129            NaN  \n",
       "\n",
       "[178130 rows x 23 columns]"
      ]
     },
     "execution_count": 89,
     "metadata": {},
     "output_type": "execute_result"
    }
   ],
   "source": [
    "super_cias"
   ]
  },
  {
   "cell_type": "code",
   "execution_count": 80,
   "metadata": {},
   "outputs": [],
   "source": [
    "empresas = df.ruc_empresa.unique()"
   ]
  },
  {
   "cell_type": "code",
   "execution_count": 84,
   "metadata": {},
   "outputs": [
    {
     "data": {
      "text/plain": [
       "array(['1792040825001', '1792692091001', '1791109384001', ...,\n",
       "       '0993371717001', '1792620597001', '0603728668001'], dtype=object)"
      ]
     },
     "execution_count": 84,
     "metadata": {},
     "output_type": "execute_result"
    }
   ],
   "source": [
    "empresas"
   ]
  },
  {
   "cell_type": "code",
   "execution_count": 86,
   "metadata": {},
   "outputs": [
    {
     "data": {
      "text/plain": [
       "0         1.790014e+12\n",
       "1         1.790005e+12\n",
       "2         1.790009e+12\n",
       "3         1.790006e+12\n",
       "4         1.790044e+12\n",
       "              ...     \n",
       "178125             NaN\n",
       "178126             NaN\n",
       "178127             NaN\n",
       "178128             NaN\n",
       "178129             NaN\n",
       "Name: RUC, Length: 178130, dtype: float64"
      ]
     },
     "execution_count": 86,
     "metadata": {},
     "output_type": "execute_result"
    }
   ],
   "source": [
    "super_cias[\"RUC\"]"
   ]
  },
  {
   "cell_type": "code",
   "execution_count": 90,
   "metadata": {},
   "outputs": [],
   "source": [
    "super_cias_filtered = super_cias[super_cias['RUC'].isin(empresas)]"
   ]
  },
  {
   "cell_type": "code",
   "execution_count": 95,
   "metadata": {},
   "outputs": [
    {
     "data": {
      "text/plain": [
       "No. FILA                 0\n",
       "EXPEDIENTE               0\n",
       "RUC                      0\n",
       "NOMBRE                   0\n",
       "SITUACIÓN LEGAL          0\n",
       "FECHA_CONSTITUCION       0\n",
       "TIPO                     0\n",
       "PAÍS                     0\n",
       "REGIÓN                   0\n",
       "PROVINCIA                0\n",
       "CANTÓN                   0\n",
       "CIUDAD                   0\n",
       "CALLE                   12\n",
       "NÚMERO                  43\n",
       "INTERSECCIÓN            74\n",
       "BARRIO                2929\n",
       "TELÉFONO                 5\n",
       "REPRESENTANTE            5\n",
       "CARGO                    5\n",
       "CAPITAL SUSCRITO        14\n",
       "CIIU NIVEL 1             0\n",
       "CIIU NIVEL 6             0\n",
       "ÚLTIMO BALANCE          83\n",
       "dtype: int64"
      ]
     },
     "execution_count": 95,
     "metadata": {},
     "output_type": "execute_result"
    }
   ],
   "source": [
    "super_cias_filtered.isna().sum(axis=0)"
   ]
  },
  {
   "cell_type": "code",
   "execution_count": 98,
   "metadata": {},
   "outputs": [],
   "source": [
    "super_cias_filtered= super_cias_filtered.drop(columns=['CALLE', 'NÚMERO', 'INTERSECCIÓN', 'BARRIO', 'TELÉFONO', 'CARGO', 'ÚLTIMO BALANCE', 'CIIU NIVEL 1', 'CIIU NIVEL 6'])"
   ]
  },
  {
   "cell_type": "code",
   "execution_count": 101,
   "metadata": {},
   "outputs": [],
   "source": [
    "super_cias_filtered.dropna(axis=0, inplace=True)"
   ]
  },
  {
   "cell_type": "code",
   "execution_count": 102,
   "metadata": {},
   "outputs": [
    {
     "data": {
      "text/plain": [
       "7429"
      ]
     },
     "execution_count": 102,
     "metadata": {},
     "output_type": "execute_result"
    }
   ],
   "source": [
    "super_cias_filtered.shape[0]"
   ]
  }
 ],
 "metadata": {
  "kernelspec": {
   "display_name": "Python 3.10.4 64-bit",
   "language": "python",
   "name": "python3"
  },
  "language_info": {
   "codemirror_mode": {
    "name": "ipython",
    "version": 3
   },
   "file_extension": ".py",
   "mimetype": "text/x-python",
   "name": "python",
   "nbconvert_exporter": "python",
   "pygments_lexer": "ipython3",
   "version": "3.10.4"
  },
  "orig_nbformat": 4,
  "vscode": {
   "interpreter": {
    "hash": "916dbcbb3f70747c44a77c7bcd40155683ae19c65e1c03b4aa3499c5328201f1"
   }
  }
 },
 "nbformat": 4,
 "nbformat_minor": 2
}
