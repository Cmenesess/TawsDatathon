{
 "cells": [
  {
   "cell_type": "code",
   "execution_count": 1,
   "metadata": {},
   "outputs": [],
   "source": [
    "import pandas as pd\n",
    "import nltk"
   ]
  },
  {
   "cell_type": "code",
   "execution_count": 2,
   "metadata": {},
   "outputs": [],
   "source": [
    "df=pd.read_csv('../data/teletrabajo_ec_processed.csv',dtype={'ruc_empresa':str})"
   ]
  },
  {
   "cell_type": "code",
   "execution_count": 4,
   "metadata": {},
   "outputs": [
    {
     "name": "stderr",
     "output_type": "stream",
     "text": [
      "c:\\Users\\Laptop\\.pyenv\\pyenv-win\\versions\\3.7.4\\lib\\site-packages\\tqdm\\auto.py:22: TqdmWarning: IProgress not found. Please update jupyter and ipywidgets. See https://ipywidgets.readthedocs.io/en/stable/user_install.html\n",
      "  from .autonotebook import tqdm as notebook_tqdm\n",
      "2022-11-12 15:21:36 INFO: Checking for updates to resources.json in case models have been updated.  Note: this behavior can be turned off with download_method=None or download_method=DownloadMethod.REUSE_RESOURCES\n",
      "Downloading https://raw.githubusercontent.com/stanfordnlp/stanza-resources/main/resources_1.4.1.json: 193kB [00:00, 13.8MB/s]                    \n",
      "2022-11-12 15:21:37 INFO: Loading these models for language: es (Spanish):\n",
      "===========================\n",
      "| Processor    | Package  |\n",
      "---------------------------\n",
      "| tokenize     | ancora   |\n",
      "| mwt          | ancora   |\n",
      "| pos          | ancora   |\n",
      "| lemma        | ancora   |\n",
      "| depparse     | ancora   |\n",
      "| sentiment    | tass2020 |\n",
      "| constituency | combined |\n",
      "| ner          | conll02  |\n",
      "===========================\n",
      "\n",
      "2022-11-12 15:21:37 INFO: Use device: cpu\n",
      "2022-11-12 15:21:37 INFO: Loading: tokenize\n",
      "2022-11-12 15:21:37 INFO: Loading: mwt\n",
      "2022-11-12 15:21:37 INFO: Loading: pos\n",
      "2022-11-12 15:21:38 INFO: Loading: lemma\n",
      "2022-11-12 15:21:38 INFO: Loading: depparse\n",
      "2022-11-12 15:21:38 INFO: Loading: sentiment\n",
      "2022-11-12 15:21:38 INFO: Loading: constituency\n",
      "2022-11-12 15:21:39 INFO: Loading: ner\n",
      "2022-11-12 15:21:39 INFO: Done loading processors!\n"
     ]
    }
   ],
   "source": [
    "import unicodedata\n",
    "import string\n",
    "from nltk.corpus import stopwords\n",
    "import stanza\n",
    "nlp = stanza.Pipeline('es')\n",
    "def text_preprocesing(text):\n",
    "    #remove_puntuation_and_accents\n",
    "    text = unicodedata.normalize('NFKD', text).encode('ascii', 'ignore').decode('utf-8', 'ignore')\n",
    "    text = text.translate(str.maketrans('', '', string.punctuation))\n",
    "    #to lower\n",
    "    text=text.lower()\n",
    "    #remove stopwords\n",
    "    \n",
    "    text = ' '.join([word for word in text.split() if word not in (stopwords.words('spanish', 'english'))])\n",
    "    doc=nlp(text)\n",
    "    text=' '.join([word.text for word in doc.sentences[0].words if word.upos!='PUNCT'])\n",
    "    return text"
   ]
  },
  {
   "cell_type": "code",
   "execution_count": 17,
   "metadata": {},
   "outputs": [],
   "source": [
    "senteces_list=df.actividadContribuyente_processed.unique().tolist()"
   ]
  },
  {
   "cell_type": "code",
   "execution_count": 43,
   "metadata": {},
   "outputs": [],
   "source": [
    "import numpy as np\n",
    "import spacy\n",
    "nlp2 = spacy.load(\"en_core_web_lg\")\n",
    "similarity_matrix=np.zeros((len(senteces_list),len(senteces_list)))\n"
   ]
  },
  {
   "cell_type": "code",
   "execution_count": 44,
   "metadata": {},
   "outputs": [],
   "source": [
    "from tqdm import tqdm"
   ]
  },
  {
   "cell_type": "code",
   "execution_count": 45,
   "metadata": {},
   "outputs": [
    {
     "name": "stderr",
     "output_type": "stream",
     "text": [
      "  0%|          | 0/891 [00:00<?, ?it/s]c:\\Users\\Laptop\\.pyenv\\pyenv-win\\versions\\3.7.4\\lib\\site-packages\\ipykernel_launcher.py:3: UserWarning: [W008] Evaluating Doc.similarity based on empty vectors.\n",
      "  This is separate from the ipykernel package so we can avoid doing imports until\n",
      "  2%|▏         | 20/891 [03:39<2:33:59, 10.61s/it]"
     ]
    }
   ],
   "source": [
    "\n",
    "for i in tqdm(range(len(senteces_list))):\n",
    "    for j in range(len(senteces_list)):\n",
    "        similarity_matrix[i,j]=nlp2(senteces_list[i]).similarity(nlp2(senteces_list[j]))\n",
    "        "
   ]
  },
  {
   "cell_type": "code",
   "execution_count": null,
   "metadata": {},
   "outputs": [],
   "source": [
    "#efficent way to get the similarity from sentences on a matrix\n",
    "import numpy as np\n",
    "import spacy\n",
    "nlp2 = spacy.load(\"en_core_web_lg\")\n",
    "similarity_matrix=np.zeros((len(senteces_list),len(senteces_list)))\n"
   ]
  },
  {
   "cell_type": "code",
   "execution_count": 39,
   "metadata": {},
   "outputs": [
    {
     "data": {
      "text/plain": [
       "array([1., 1., 1., 1., 1.])"
      ]
     },
     "execution_count": 39,
     "metadata": {},
     "output_type": "execute_result"
    }
   ],
   "source": [
    "similarity_matrix[np.where(similarity_matrix!=0)]"
   ]
  },
  {
   "cell_type": "code",
   "execution_count": 40,
   "metadata": {},
   "outputs": [
    {
     "data": {
      "text/plain": [
       "(array([0, 1, 2, 3, 4], dtype=int64), array([0, 1, 2, 3, 4], dtype=int64))"
      ]
     },
     "execution_count": 40,
     "metadata": {},
     "output_type": "execute_result"
    }
   ],
   "source": [
    "np.where(similarity_matrix!=0)"
   ]
  },
  {
   "cell_type": "code",
   "execution_count": null,
   "metadata": {},
   "outputs": [],
   "source": []
  }
 ],
 "metadata": {
  "kernelspec": {
   "display_name": "Python 3.7.4 64-bit ('3.7.4')",
   "language": "python",
   "name": "python3"
  },
  "language_info": {
   "codemirror_mode": {
    "name": "ipython",
    "version": 3
   },
   "file_extension": ".py",
   "mimetype": "text/x-python",
   "name": "python",
   "nbconvert_exporter": "python",
   "pygments_lexer": "ipython3",
   "version": "3.7.4"
  },
  "orig_nbformat": 4,
  "vscode": {
   "interpreter": {
    "hash": "3963403ec90de7af04ccfa1e794aca0d547856d41d67119dabef81f128d0e606"
   }
  }
 },
 "nbformat": 4,
 "nbformat_minor": 2
}
